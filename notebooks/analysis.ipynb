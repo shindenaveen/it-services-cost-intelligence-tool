# analysis.ipynb content
import pandas as pd
import matplotlib.pyplot as plt
import seaborn as sns

df = pd.read_csv("../data/consolidated_costs.csv")
sns.barplot(data=df, x="Category", y="Internal_Cost")
